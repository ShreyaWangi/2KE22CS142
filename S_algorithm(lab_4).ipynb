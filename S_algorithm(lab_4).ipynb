{
  "nbformat": 4,
  "nbformat_minor": 0,
  "metadata": {
    "colab": {
      "provenance": [],
      "authorship_tag": "ABX9TyN+AAnTtt4Ic8wn8lFkBI1K",
      "include_colab_link": true
    },
    "kernelspec": {
      "name": "python3",
      "display_name": "Python 3"
    },
    "language_info": {
      "name": "python"
    }
  },
  "cells": [
    {
      "cell_type": "markdown",
      "metadata": {
        "id": "view-in-github",
        "colab_type": "text"
      },
      "source": [
        "<a href=\"https://colab.research.google.com/github/ShreyaWangi/2KE22CS142/blob/main/S_algorithm(lab_4).ipynb\" target=\"_parent\"><img src=\"https://colab.research.google.com/assets/colab-badge.svg\" alt=\"Open In Colab\"/></a>"
      ]
    },
    {
      "cell_type": "code",
      "execution_count": 2,
      "metadata": {
        "colab": {
          "base_uri": "https://localhost:8080/"
        },
        "id": "1lv4Khq_ik4p",
        "outputId": "7689fa72-6a9e-49a9-f8b5-28312d239437"
      },
      "outputs": [
        {
          "output_type": "stream",
          "name": "stdout",
          "text": [
            "✅ 'training_data.csv' file created successfully.\n",
            "\n",
            "📄 Training data:\n",
            "     Sky  Temp Humidity    Wind Water Forecast EnjoySport\n",
            "0  Sunny  Warm   Normal  Strong  Warm     Same        Yes\n",
            "1  Sunny  Warm     High  Strong  Warm     Same        Yes\n",
            "2  Rainy  Cold     High  Strong  Warm   Change         No\n",
            "3  Sunny  Warm     High  Strong  Cool   Change        Yes \n",
            "\n",
            "✅ The final hypothesis is: ['Sunny', 'Warm', 'High', 'Strong', '?', '?']\n"
          ]
        }
      ],
      "source": [
        "import pandas as pd\n",
        "\n",
        "# Step 1: Create the training_data.csv file\n",
        "data = {\n",
        "    'Sky': ['Sunny', 'Sunny', 'Rainy', 'Sunny'],\n",
        "    'Temp': ['Warm', 'Warm', 'Cold', 'Warm'],\n",
        "    'Humidity': ['Normal', 'High', 'High', 'High'],\n",
        "    'Wind': ['Strong', 'Strong', 'Strong', 'Strong'],\n",
        "    'Water': ['Warm', 'Warm', 'Warm', 'Cool'],\n",
        "    'Forecast': ['Same', 'Same', 'Change', 'Change'],\n",
        "    'EnjoySport': ['Yes', 'Yes', 'No', 'Yes']\n",
        "}\n",
        "\n",
        "df = pd.DataFrame(data)\n",
        "df.to_csv('training_data.csv', index=False)  # Saves the data to a CSV file\n",
        "print(\"✅ 'training_data.csv' file created successfully.\\n\")\n",
        "\n",
        "# Step 2: Find-S Algorithm Implementation\n",
        "def find_s_algorithm(file_path):\n",
        "    # Load CSV data\n",
        "    data = pd.read_csv(file_path)\n",
        "\n",
        "    print(\"📄 Training data:\")\n",
        "    print(data, \"\\n\")\n",
        "\n",
        "    # Separate attribute columns and target\n",
        "    attributes = data.columns[:-1]\n",
        "    class_label = data.columns[-1]\n",
        "\n",
        "    # Initialize hypothesis with most specific values\n",
        "    hypothesis = ['?' for _ in attributes]\n",
        "\n",
        "    # Iterate through the data\n",
        "    for index, row in data.iterrows():\n",
        "        if row[class_label] == 'Yes':\n",
        "            for i, value in enumerate(row[attributes].values.tolist()):\n",
        "                if hypothesis[i] == '?' or hypothesis[i] == value:\n",
        "                    hypothesis[i] = value\n",
        "                else:\n",
        "                    hypothesis[i] = '?'\n",
        "\n",
        "    return hypothesis\n",
        "\n",
        "# Step 3: Run the algorithm\n",
        "file_path = 'training_data.csv'\n",
        "hypothesis = find_s_algorithm(file_path)\n",
        "\n",
        "print(\"✅ The final hypothesis is:\", hypothesis)\n"
      ]
    }
  ]
}